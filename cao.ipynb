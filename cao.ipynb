{
 "cells": [
  {
   "cell_type": "markdown",
   "id": "7de274e0-dd67-4c6a-b6ee-70c9725d6e65",
   "metadata": {},
   "source": [
    "# CAO \n",
    "***\n",
    "## Author: Fionn McCarthy"
   ]
  },
  {
   "cell_type": "markdown",
   "id": "9fce1ef1-439d-4285-901d-3733ea1232c9",
   "metadata": {},
   "source": [
    "## Introduction and Background\n",
    "***"
   ]
  },
  {
   "cell_type": "markdown",
   "id": "f84a9a95",
   "metadata": {},
   "source": [
    "Below shows the libraries imported to carry out the relevant analysis"
   ]
  },
  {
   "cell_type": "code",
   "execution_count": 13,
   "id": "89813875-9eac-4fc5-81df-3b5d2a64c98f",
   "metadata": {},
   "outputs": [],
   "source": [
    "# Regular expressions \n",
    "import re\n",
    "\n",
    "# Working with HTTP \n",
    "import requests as rq\n",
    "\n",
    "# Data frames \n",
    "import pandas as pd\n",
    "\n",
    "# Date and time library\n",
    "import datetime as dt "
   ]
  },
  {
   "cell_type": "markdown",
   "id": "6ed0bba6",
   "metadata": {},
   "source": [
    "The link to the CAO points 2021 can be acccessed **[here](http://www.cao.ie/index.php?page=points&p=2021)**."
   ]
  },
  {
   "cell_type": "code",
   "execution_count": 14,
   "id": "b7c5bd8f-1585-42e9-a05a-dbdaf4f8b75c",
   "metadata": {},
   "outputs": [
    {
     "data": {
      "text/plain": [
       "<Response [200]>"
      ]
     },
     "execution_count": 14,
     "metadata": {},
     "output_type": "execute_result"
    }
   ],
   "source": [
    "# Retrieve the CAO points from the URl below\n",
    "CAO1 = rq.get('http://www2.cao.ie/points/l8.php')\n",
    "\n",
    "# View the above is okay, 200 means all okay. \n",
    "CAO1 "
   ]
  },
  {
   "cell_type": "markdown",
   "id": "c5e2a7ec",
   "metadata": {},
   "source": [
    "### Saving the Original Data Set \n",
    "The datetime library is usesd in order to take a back up of the data retrieved from teh CAO website.The reason the datetime library is used is to back up teh data each time the notebook is run as to not overwrite the data. "
   ]
  },
  {
   "cell_type": "code",
   "execution_count": 15,
   "id": "8be4b098",
   "metadata": {},
   "outputs": [],
   "source": [
    "# date and time of right now.\n",
    "now = dt.datetime.now()\n",
    "\n",
    "# Formatting now as a string.\n",
    "nowstring = now.strftime('%Y%m%d_%H%M%S')"
   ]
  },
  {
   "cell_type": "markdown",
   "id": "b1ac1bff",
   "metadata": {},
   "source": [
    "The server advises to utilize charset 'iso-8859-1' in order to decode the but from research this charset is unable to decode \\x96 as it is not defined so we use 'cp1252' instead."
   ]
  },
  {
   "cell_type": "code",
   "execution_count": 18,
   "id": "f31c9b65",
   "metadata": {},
   "outputs": [],
   "source": [
    "# Setting the charset to decode with \n",
    "CAO1.encoding = 'cp1252'"
   ]
  },
  {
   "cell_type": "code",
   "execution_count": 19,
   "id": "1dea4809",
   "metadata": {},
   "outputs": [],
   "source": [
    "# Setting the charset to decode with \n",
    "CAO1.encoding = 'cp1252'\n",
    "\n",
    "# Creating a file path for the data.\n",
    "path1 = 'data/cao2021_' + nowstring + '.html'\n",
    "\n",
    "# Saving the original html file before going any further. \n",
    "with open(path1, 'w') as f:\n",
    "    f.write(CAO1.text)"
   ]
  },
  {
   "cell_type": "code",
   "execution_count": null,
   "id": "a6d4ab75",
   "metadata": {},
   "outputs": [],
   "source": []
  },
  {
   "cell_type": "markdown",
   "id": "c858a58d",
   "metadata": {},
   "source": [
    "### Regular expressions selects the lines in the we want to keep."
   ]
  },
  {
   "cell_type": "code",
   "execution_count": 20,
   "id": "299311d2-bc73-48c8-a2f3-041b8e68e478",
   "metadata": {},
   "outputs": [],
   "source": [
    "# The regular expression is compiled below \n",
    "re_expr = re.compile(r'([A-Z]{2}[0-9]{3})  (.*)([0-9]{3})(\\*?) *')"
   ]
  },
  {
   "cell_type": "code",
   "execution_count": null,
   "id": "9207676e",
   "metadata": {},
   "outputs": [],
   "source": []
  },
  {
   "cell_type": "code",
   "execution_count": 21,
   "id": "ebf68338",
   "metadata": {},
   "outputs": [],
   "source": [
    "# Path creation for teh csv file.\n",
    "path2 = 'data/cao2021_csv_' + nowstring + '.csv'"
   ]
  },
  {
   "cell_type": "markdown",
   "id": "0def4731",
   "metadata": {},
   "source": [
    "Looping through lines "
   ]
  },
  {
   "cell_type": "code",
   "execution_count": 23,
   "id": "e83058d5-43d7-41ad-b4ea-d6303a493a9e",
   "metadata": {},
   "outputs": [
    {
     "name": "stdout",
     "output_type": "stream",
     "text": [
      "922\n"
     ]
    }
   ],
   "source": [
    "# Keep track of how many courses we process.\n",
    "no_lines = 0\n",
    "\n",
    "# Open and write to the cvs file\n",
    "with open(path2, 'w') as f:\n",
    "    # Loop through lines of the response\n",
    "    for line in CAO1.iter_lines():\n",
    "        # Decode using cp1252\n",
    "        dline = line.decode('cp1252')\n",
    "        # Match only the lines representing courses.\n",
    "        if re_expr.fullmatch(dline):\n",
    "            # Add one to the lines counter.\n",
    "            no_lines = no_lines + 1\n",
    "            # Split the line on two or more spaces.\n",
    "            linesplit = re.split('  +', dline)\n",
    "            # Rejoin the substrings with commas in between.\n",
    "            f.write(','.join(linesplit) + '\\n')\n",
    "        \n",
    "print(no_lines)"
   ]
  },
  {
   "cell_type": "code",
   "execution_count": null,
   "id": "66d38f2a",
   "metadata": {},
   "outputs": [],
   "source": []
  },
  {
   "cell_type": "code",
   "execution_count": null,
   "id": "000eacf7",
   "metadata": {},
   "outputs": [],
   "source": []
  },
  {
   "cell_type": "code",
   "execution_count": null,
   "id": "983d96f5",
   "metadata": {},
   "outputs": [],
   "source": []
  },
  {
   "cell_type": "code",
   "execution_count": null,
   "id": "f6b29883",
   "metadata": {},
   "outputs": [],
   "source": []
  },
  {
   "cell_type": "code",
   "execution_count": null,
   "id": "650c499f",
   "metadata": {},
   "outputs": [],
   "source": []
  },
  {
   "cell_type": "markdown",
   "id": "14d77e10",
   "metadata": {},
   "source": [
    "---"
   ]
  },
  {
   "cell_type": "markdown",
   "id": "ee0db8d7-3b46-4c77-9f90-feb27c2d4aa2",
   "metadata": {},
   "source": [
    "## References "
   ]
  }
 ],
 "metadata": {
  "kernelspec": {
   "display_name": "Python 3",
   "language": "python",
   "name": "python3"
  },
  "language_info": {
   "codemirror_mode": {
    "name": "ipython",
    "version": 3
   },
   "file_extension": ".py",
   "mimetype": "text/x-python",
   "name": "python",
   "nbconvert_exporter": "python",
   "pygments_lexer": "ipython3",
   "version": "3.8.8"
  }
 },
 "nbformat": 4,
 "nbformat_minor": 5
}
