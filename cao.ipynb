{
 "cells": [
  {
   "cell_type": "markdown",
   "id": "7de274e0-dd67-4c6a-b6ee-70c9725d6e65",
   "metadata": {},
   "source": [
    "# CAO \n",
    "***\n",
    "## Author: Fionn McCarthy"
   ]
  },
  {
   "cell_type": "markdown",
   "id": "9fce1ef1-439d-4285-901d-3733ea1232c9",
   "metadata": {},
   "source": [
    "## Introduction and Background\n",
    "***"
   ]
  },
  {
   "cell_type": "code",
   "execution_count": null,
   "id": "a95682f1-4ce1-4b65-a53b-ae0056efb35f",
   "metadata": {},
   "outputs": [],
   "source": []
  },
  {
   "cell_type": "code",
   "execution_count": null,
   "id": "89813875-9eac-4fc5-81df-3b5d2a64c98f",
   "metadata": {},
   "outputs": [],
   "source": []
  },
  {
   "cell_type": "code",
   "execution_count": null,
   "id": "b7c5bd8f-1585-42e9-a05a-dbdaf4f8b75c",
   "metadata": {},
   "outputs": [],
   "source": []
  },
  {
   "cell_type": "code",
   "execution_count": null,
   "id": "299311d2-bc73-48c8-a2f3-041b8e68e478",
   "metadata": {},
   "outputs": [],
   "source": []
  },
  {
   "cell_type": "code",
   "execution_count": null,
   "id": "e83058d5-43d7-41ad-b4ea-d6303a493a9e",
   "metadata": {},
   "outputs": [],
   "source": []
  },
  {
   "cell_type": "code",
   "execution_count": null,
   "id": "c9dbe2c8-3e9a-4af2-bafb-801b2d40af19",
   "metadata": {},
   "outputs": [],
   "source": []
  },
  {
   "cell_type": "markdown",
   "id": "ee0db8d7-3b46-4c77-9f90-feb27c2d4aa2",
   "metadata": {},
   "source": [
    "## References "
   ]
  }
 ],
 "metadata": {
  "kernelspec": {
   "display_name": "Python 3",
   "language": "python",
   "name": "python3"
  },
  "language_info": {
   "codemirror_mode": {
    "name": "ipython",
    "version": 3
   },
   "file_extension": ".py",
   "mimetype": "text/x-python",
   "name": "python",
   "nbconvert_exporter": "python",
   "pygments_lexer": "ipython3",
   "version": "3.8.8"
  }
 },
 "nbformat": 4,
 "nbformat_minor": 5
}
