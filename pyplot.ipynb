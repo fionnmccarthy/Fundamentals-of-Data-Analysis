{
 "cells": [
  {
   "cell_type": "markdown",
   "id": "c2496224-9f2b-4f12-be21-84cf164b7623",
   "metadata": {},
   "source": [
    "# The matplotlib.pyplot Python Package\n",
    "***\n",
    "## Author: Fionn McCarthy"
   ]
  },
  {
   "cell_type": "markdown",
   "id": "0ed0f6a7-ca0f-491e-99af-dd9124413aff",
   "metadata": {},
   "source": [
    "## Introduction and Background\n",
    "***\n"
   ]
  },
  {
   "cell_type": "code",
   "execution_count": null,
   "id": "0b53535a-6516-4db1-9fe3-13cabd8c7879",
   "metadata": {},
   "outputs": [],
   "source": []
  },
  {
   "cell_type": "code",
   "execution_count": null,
   "id": "ff95cf4a-5d35-4c7b-a2ac-c0ffebed6315",
   "metadata": {},
   "outputs": [],
   "source": [
    "import numpy as np \n",
    "import matplotlib.pyplot as plt "
   ]
  },
  {
   "cell_type": "markdown",
   "id": "ba012b06-09bf-4798-9538-b5c488934321",
   "metadata": {},
   "source": [
    "## Section 1"
   ]
  },
  {
   "cell_type": "code",
   "execution_count": null,
   "id": "199e0e85-8b08-417f-87b0-34354d4efdb7",
   "metadata": {},
   "outputs": [],
   "source": []
  },
  {
   "cell_type": "markdown",
   "id": "68999213-6315-482a-bb73-6b8824e690d5",
   "metadata": {},
   "source": [
    "## Section 2"
   ]
  },
  {
   "cell_type": "code",
   "execution_count": null,
   "id": "0c1ae965-26f7-4c6d-81da-9acca1ab0f90",
   "metadata": {},
   "outputs": [],
   "source": []
  },
  {
   "cell_type": "markdown",
   "id": "334fe209-868b-4022-b20a-676368706715",
   "metadata": {},
   "source": [
    "## Section 3"
   ]
  },
  {
   "cell_type": "code",
   "execution_count": null,
   "id": "7490845a-b0fa-41d7-8967-299ee89c6a33",
   "metadata": {},
   "outputs": [],
   "source": []
  },
  {
   "cell_type": "code",
   "execution_count": null,
   "id": "e7f2f3f9-3a2c-4ae1-8d69-18f7c094cc52",
   "metadata": {},
   "outputs": [],
   "source": []
  },
  {
   "cell_type": "markdown",
   "id": "7fab6bba-b79a-4a3e-8e7d-426f478146aa",
   "metadata": {},
   "source": [
    "## References "
   ]
  }
 ],
 "metadata": {
  "kernelspec": {
   "display_name": "Python 3",
   "language": "python",
   "name": "python3"
  },
  "language_info": {
   "codemirror_mode": {
    "name": "ipython",
    "version": 3
   },
   "file_extension": ".py",
   "mimetype": "text/x-python",
   "name": "python",
   "nbconvert_exporter": "python",
   "pygments_lexer": "ipython3",
   "version": "3.8.8"
  }
 },
 "nbformat": 4,
 "nbformat_minor": 5
}
